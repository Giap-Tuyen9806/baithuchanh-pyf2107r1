{
 "cells": [
  {
   "cell_type": "code",
   "execution_count": null,
   "id": "54531cc5",
   "metadata": {},
   "outputs": [],
   "source": [
    "Quê hương anh nước mặn, đồng chua\n",
    "Làng tôi nghèo đất cày lên sỏi đá\n",
    "Anh với tôi đôi người xa lạ\n",
    "Tự phương trời chẳng hẹn quen nhau.\n",
    "Súng bên súng, đầu sát bên đầu\n",
    "Đêm rét chung chăn thành đôi tri kỷ\n",
    "Đồng chí!\n",
    "\n",
    "Ruộng nương anh gửi bạn thân cày\n",
    "Gian nhà không mặc kệ gió lung lay\n",
    "Giếng nước gốc đa nhớ người ra lính.\n",
    "Anh với tôi biết từng cơn ớn lạnh,\n",
    "Sốt run người, vừng trán ướt mồ hôi.\n",
    "\n",
    "Áo anh rách vai\n",
    "Quần tôi có vài mảnh vá\n",
    "Miệng cười buốt giá\n",
    "Chân không giày\n",
    "Thương nhau tay nắm lấy bàn tay!\n",
    "\n",
    "Đêm nay rừng hoang sương muối\n",
    "Đứng cạnh bên nhau chờ giặc tới\n",
    "Đầu súng trăng treo.\n"
   ]
  }
 ],
 "metadata": {
  "kernelspec": {
   "display_name": "Python 3",
   "language": "python",
   "name": "python3"
  },
  "language_info": {
   "codemirror_mode": {
    "name": "ipython",
    "version": 3
   },
   "file_extension": ".py",
   "mimetype": "text/x-python",
   "name": "python",
   "nbconvert_exporter": "python",
   "pygments_lexer": "ipython3",
   "version": "3.8.8"
  }
 },
 "nbformat": 4,
 "nbformat_minor": 5
}
