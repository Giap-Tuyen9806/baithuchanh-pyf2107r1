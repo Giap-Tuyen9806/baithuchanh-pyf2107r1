{
 "cells": [
  {
   "cell_type": "code",
   "execution_count": null,
   "id": "ca0e520a",
   "metadata": {},
   "outputs": [],
   "source": [
    "import turtle\n",
    "\n",
    "pen=turtle.Pen()\n",
    "pen.pensize(5)\n",
    "pen.pencolor(\"green\")\n",
    "pen.fillcolor(\"red\")\n",
    "pen.begin_fill()\n",
    "\n",
    "pen.circle(100)\n",
    "pen.end_fill()\n",
    "turtle.done()"
   ]
  },
  {
   "cell_type": "code",
   "execution_count": null,
   "id": "7895d474",
   "metadata": {},
   "outputs": [],
   "source": []
  }
 ],
 "metadata": {
  "kernelspec": {
   "display_name": "Python 3",
   "language": "python",
   "name": "python3"
  },
  "language_info": {
   "codemirror_mode": {
    "name": "ipython",
    "version": 3
   },
   "file_extension": ".py",
   "mimetype": "text/x-python",
   "name": "python",
   "nbconvert_exporter": "python",
   "pygments_lexer": "ipython3",
   "version": "3.8.8"
  }
 },
 "nbformat": 4,
 "nbformat_minor": 5
}
